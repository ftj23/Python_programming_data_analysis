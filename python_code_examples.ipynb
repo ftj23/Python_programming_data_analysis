{
  "nbformat": 4,
  "nbformat_minor": 0,
  "metadata": {
    "colab": {
      "provenance": [],
      "authorship_tag": "ABX9TyNlThcz7vuFRwIvKCLvjlJL",
      "include_colab_link": true
    },
    "kernelspec": {
      "name": "python3",
      "display_name": "Python 3"
    },
    "language_info": {
      "name": "python"
    }
  },
  "cells": [
    {
      "cell_type": "markdown",
      "metadata": {
        "id": "view-in-github",
        "colab_type": "text"
      },
      "source": [
        "<a href=\"https://colab.research.google.com/github/ftj23/Python_programming_data_analysis/blob/main/python_code_examples.ipynb\" target=\"_parent\"><img src=\"https://colab.research.google.com/assets/colab-badge.svg\" alt=\"Open In Colab\"/></a>"
      ]
    },
    {
      "cell_type": "markdown",
      "source": [
        "# *** 1. Program to find the largest of three number***\n",
        "\n",
        "*   read three numbers\n",
        "*   use if-else to find the largest of three\n",
        "\n"
      ],
      "metadata": {
        "id": "ss1AIPXM8eD9"
      }
    },
    {
      "cell_type": "code",
      "source": [
        "\"\"\"\n",
        "# Python program to find the largest number among the three input numbers\n",
        "\"\"\"\n",
        "num1 = 40\n",
        "num2 = 24\n",
        "num3 = 32\n",
        "#uncomment following lines to take three numbers from user\n",
        "# num1 = float(input(\"Enter first number: \"))\n",
        "# num2 = float(input(\"Enter second number: \"))\n",
        "# num3 = float(input(\"Enter third number: \"))\n",
        "if (num1 >= num2) and (num1 >= num3):\n",
        "   largest = num1\n",
        "elif (num2 >= num1) and (num2 >= num3):\n",
        "   largest = num2\n",
        "else:\n",
        "   largest = num3\n",
        "print(\"The largest number is\", largest)"
      ],
      "metadata": {
        "colab": {
          "base_uri": "https://localhost:8080/"
        },
        "id": "nUACyPwvAbza",
        "outputId": "9c048275-ba26-437a-86a2-9da6a449ea41"
      },
      "execution_count": null,
      "outputs": [
        {
          "output_type": "stream",
          "name": "stdout",
          "text": [
            "The largest number is 40\n"
          ]
        }
      ]
    },
    {
      "cell_type": "markdown",
      "source": [
        "# ***2. Printing multiplication table***\n",
        ">read a number\n",
        "\n",
        ">in a for loop multiply that num with i and increment i in every step"
      ],
      "metadata": {
        "id": "Q0gQV9aFAvjR"
      }
    },
    {
      "cell_type": "code",
      "source": [
        "num = 12\n",
        "\n",
        "\n",
        "for i in range(1, 11):\n",
        "   print(num, 'x', i, '=', num*i)"
      ],
      "metadata": {
        "colab": {
          "base_uri": "https://localhost:8080/"
        },
        "id": "_MemEBRlBGDr",
        "outputId": "4f052dc5-f59a-4abe-971a-f09d97999123"
      },
      "execution_count": null,
      "outputs": [
        {
          "output_type": "stream",
          "name": "stdout",
          "text": [
            "12 x 1 = 12\n",
            "12 x 2 = 24\n",
            "12 x 3 = 36\n",
            "12 x 4 = 48\n",
            "12 x 5 = 60\n",
            "12 x 6 = 72\n",
            "12 x 7 = 84\n",
            "12 x 8 = 96\n",
            "12 x 9 = 108\n",
            "12 x 10 = 120\n"
          ]
        }
      ]
    },
    {
      "cell_type": "markdown",
      "source": [
        "**Task**: Get an integer less than 23 from the user and display it's multiplication table\n",
        "\n"
      ],
      "metadata": {
        "id": "GXEQ7JFhBJEZ"
      }
    },
    {
      "cell_type": "code",
      "source": [
        "num = int(input(\"Display multiplication table of? \"))\n",
        "\n",
        "# Iterate 10 times from i = 1 to 10\n",
        "for i in range(1, 11):\n",
        "   print(i, 'x', num, '=', num*i)"
      ],
      "metadata": {
        "colab": {
          "base_uri": "https://localhost:8080/"
        },
        "id": "JVbYcWM_BRBD",
        "outputId": "2a5ecf3e-0e8c-454d-8125-6308b0df8f69"
      },
      "execution_count": null,
      "outputs": [
        {
          "output_type": "stream",
          "name": "stdout",
          "text": [
            "Display multiplication table of? 5\n",
            "1 x 5 = 5\n",
            "2 x 5 = 10\n",
            "3 x 5 = 15\n",
            "4 x 5 = 20\n",
            "5 x 5 = 25\n",
            "6 x 5 = 30\n",
            "7 x 5 = 35\n",
            "8 x 5 = 40\n",
            "9 x 5 = 45\n",
            "10 x 5 = 50\n"
          ]
        }
      ]
    },
    {
      "cell_type": "markdown",
      "source": [
        "check for the sign of a number\n",
        "- read the num\n",
        "- if num > 0 then print positive \n",
        "- if num ==0 then print zero\n",
        "- else print negative\n"
      ],
      "metadata": {
        "id": "GmrGHiyXBTbK"
      }
    },
    {
      "cell_type": "code",
      "source": [
        "num = float(input(\"Enter a number: \"))\n",
        "if num > 0:\n",
        "   print(\"Positive number\")\n",
        "elif num == 0:\n",
        "   print(\"Zero\")\n",
        "else:\n",
        "   print(\"Negative number\")"
      ],
      "metadata": {
        "colab": {
          "base_uri": "https://localhost:8080/"
        },
        "id": "A78QX7yVBXhT",
        "outputId": "44424420-7845-448e-c119-61c51a0beaff"
      },
      "execution_count": null,
      "outputs": [
        {
          "output_type": "stream",
          "name": "stdout",
          "text": [
            "Enter a number: 2\n",
            "Positive number\n"
          ]
        }
      ]
    },
    {
      "cell_type": "markdown",
      "source": [
        "#**3. Find the surface area and volume of the cylinder**\n",
        "Let $r$ is the base radius and $h$ is the height of a right circular cylinder.\n",
        "$$SA=2\\pi r(r+h)$$\n",
        "\n",
        "$$V=\\pi r^2 h$$\n",
        ">read a num\n",
        "\n",
        ">use the formula for surface area and volume and cal\n",
        "\n",
        ">then print it"
      ],
      "metadata": {
        "id": "hwi0KdnKBaix"
      }
    },
    {
      "cell_type": "code",
      "source": [
        "#from math import pi\n",
        "pi=3.14\n",
        "r=2.6\n",
        "h=1.6\n",
        "SA=2*pi*r*(r+h)\n",
        "V=pi*r**2*h\n",
        "print((\"Surface Area is {} and Volume is {}\").format(SA,V))"
      ],
      "metadata": {
        "colab": {
          "base_uri": "https://localhost:8080/"
        },
        "id": "bWMb3Gt1BofR",
        "outputId": "6605930f-a38e-4577-8e45-9bb7885a7298"
      },
      "execution_count": null,
      "outputs": [
        {
          "output_type": "stream",
          "name": "stdout",
          "text": [
            "Surface Area is 68.57760000000002 and Volume is 33.96224\n"
          ]
        }
      ]
    },
    {
      "cell_type": "markdown",
      "source": [
        "# ***4. find area of a circle with radius `r` using user input***\n",
        "- read a input\n",
        "- use the formula pie.r.r to calculate the radius\n",
        "- print the area "
      ],
      "metadata": {
        "id": "r7e0tBmqBsnD"
      }
    },
    {
      "cell_type": "code",
      "source": [
        "r=float(input(\"Enter the radius: \"))\n",
        "print(\"Area: \",pi*r**2)"
      ],
      "metadata": {
        "colab": {
          "base_uri": "https://localhost:8080/"
        },
        "id": "g1b3J-6mCImS",
        "outputId": "91e0ea97-d637-47c9-d53c-f5e9389c6ada"
      },
      "execution_count": null,
      "outputs": [
        {
          "output_type": "stream",
          "name": "stdout",
          "text": [
            "Enter the radius: 5\n",
            "Area:  78.5\n"
          ]
        }
      ]
    },
    {
      "cell_type": "markdown",
      "source": [
        "# ***5. Find the area of a rectangle with length l and breath b***\n",
        "- read the values of l and b\n",
        "- cal the are of rect using the formula l.b**\n",
        "- print the area"
      ],
      "metadata": {
        "id": "0UU1vVMxBxNp"
      }
    },
    {
      "cell_type": "code",
      "source": [
        "l=2;b=5.2\n",
        "Area=l*b\n",
        "print(\"Area of the Rectangle is : \",Area)"
      ],
      "metadata": {
        "colab": {
          "base_uri": "https://localhost:8080/"
        },
        "id": "VVQHf5RBCYha",
        "outputId": "e6ff2372-7aa8-472a-c791-85a01e03e719"
      },
      "execution_count": null,
      "outputs": [
        {
          "output_type": "stream",
          "name": "stdout",
          "text": [
            "Area of the Rectangle is :  10.4\n"
          ]
        }
      ]
    },
    {
      "cell_type": "markdown",
      "source": [
        "# ***6. Replacing a word with another word in a sentence***\n",
        "- using replace() swap the old with new "
      ],
      "metadata": {
        "id": "qis-5Q13CagU"
      }
    },
    {
      "cell_type": "code",
      "source": [
        "text = 'hand ball is a hand full of hands'\n",
        "\n",
        "# replace 'hand' with 'foot'\n",
        "replaced_text = text.replace('hand ', 'foot ')\n",
        "print(replaced_text)"
      ],
      "metadata": {
        "colab": {
          "base_uri": "https://localhost:8080/"
        },
        "id": "YMjngOxZCvWS",
        "outputId": "de157d4a-bc0f-4acd-9346-c1cc10935750"
      },
      "execution_count": null,
      "outputs": [
        {
          "output_type": "stream",
          "name": "stdout",
          "text": [
            "foot ball is a foot full of hands\n"
          ]
        }
      ]
    },
    {
      "cell_type": "markdown",
      "source": [
        "#**7. Program to remove a word from a sentence**\n",
        "- using remove() function"
      ],
      "metadata": {
        "id": "Lmo9-ZknCyFC"
      }
    },
    {
      "cell_type": "markdown",
      "source": [
        "- read two string variables\n",
        "- replace the second variable with \"\" which will replace it with a white space "
      ],
      "metadata": {
        "id": "jCrlaTy0C-xS"
      }
    },
    {
      "cell_type": "code",
      "source": [
        "text = input(\"Enter the String: \")\n",
        "word = input(\"Enter a Word to Delete: \")\n",
        "\n",
        "text = text.replace(word, \"\")\n",
        "print(\"The updated sentence is:\\n\")\n",
        "print(text)"
      ],
      "metadata": {
        "colab": {
          "base_uri": "https://localhost:8080/"
        },
        "id": "FoBLy8_WC4Xa",
        "outputId": "7b30783a-f10f-48ff-d320-eda991ed2a9b"
      },
      "execution_count": null,
      "outputs": [
        {
          "output_type": "stream",
          "name": "stdout",
          "text": [
            "Enter the String: good morning\n",
            "Enter a Word to Delete: good\n",
            "The updated sentence is:\n",
            "\n",
            " morning\n"
          ]
        }
      ]
    },
    {
      "cell_type": "markdown",
      "source": [
        "# ***8.***\n",
        "- read two string variables \n",
        "- remove the word using remove() function"
      ],
      "metadata": {
        "id": "-n7nrXfnDVs6"
      }
    },
    {
      "cell_type": "code",
      "source": [
        "str1 = input(\"Enter the String: \")\n",
        "word = input(\"Enter a Word to Delete: \")\n",
        "\n",
        "str1 = str1.remove(word)\n",
        "print(\"The updated sentence is:\\n\")\n",
        "print(str1)"
      ],
      "metadata": {
        "colab": {
          "base_uri": "https://localhost:8080/",
          "height": 281
        },
        "id": "0elHZA0zC74B",
        "outputId": "81147a97-afd5-4c73-dca7-175056fae996"
      },
      "execution_count": null,
      "outputs": [
        {
          "name": "stdout",
          "output_type": "stream",
          "text": [
            "Enter the String: good morning\n",
            "Enter a Word to Delete: good\n"
          ]
        },
        {
          "output_type": "error",
          "ename": "AttributeError",
          "evalue": "ignored",
          "traceback": [
            "\u001b[0;31m---------------------------------------------------------------------------\u001b[0m",
            "\u001b[0;31mAttributeError\u001b[0m                            Traceback (most recent call last)",
            "\u001b[0;32m<ipython-input-24-b6d9ebfcfc00>\u001b[0m in \u001b[0;36m<cell line: 4>\u001b[0;34m()\u001b[0m\n\u001b[1;32m      2\u001b[0m \u001b[0mword\u001b[0m \u001b[0;34m=\u001b[0m \u001b[0minput\u001b[0m\u001b[0;34m(\u001b[0m\u001b[0;34m\"Enter a Word to Delete: \"\u001b[0m\u001b[0;34m)\u001b[0m\u001b[0;34m\u001b[0m\u001b[0;34m\u001b[0m\u001b[0m\n\u001b[1;32m      3\u001b[0m \u001b[0;34m\u001b[0m\u001b[0m\n\u001b[0;32m----> 4\u001b[0;31m \u001b[0mstr1\u001b[0m \u001b[0;34m=\u001b[0m \u001b[0mstr1\u001b[0m\u001b[0;34m.\u001b[0m\u001b[0mremove\u001b[0m\u001b[0;34m(\u001b[0m\u001b[0mword\u001b[0m\u001b[0;34m)\u001b[0m\u001b[0;34m\u001b[0m\u001b[0;34m\u001b[0m\u001b[0m\n\u001b[0m\u001b[1;32m      5\u001b[0m \u001b[0mprint\u001b[0m\u001b[0;34m(\u001b[0m\u001b[0;34m\"The updated sentence is:\\n\"\u001b[0m\u001b[0;34m)\u001b[0m\u001b[0;34m\u001b[0m\u001b[0;34m\u001b[0m\u001b[0m\n\u001b[1;32m      6\u001b[0m \u001b[0mprint\u001b[0m\u001b[0;34m(\u001b[0m\u001b[0mstr1\u001b[0m\u001b[0;34m)\u001b[0m\u001b[0;34m\u001b[0m\u001b[0;34m\u001b[0m\u001b[0m\n",
            "\u001b[0;31mAttributeError\u001b[0m: 'str' object has no attribute 'remove'"
          ]
        }
      ]
    },
    {
      "cell_type": "markdown",
      "source": [
        "#***9. Program to split a sentence into words***\n",
        "- using split() function"
      ],
      "metadata": {
        "id": "YxVbMUXrDfgp"
      }
    },
    {
      "cell_type": "code",
      "source": [
        "text= 'good morning saintgits'\n",
        "wordlist = text.split()\n",
        "wordlist"
      ],
      "metadata": {
        "colab": {
          "base_uri": "https://localhost:8080/"
        },
        "id": "O5uXqiBEDmkp",
        "outputId": "06463f58-b93a-471a-ebea-62c909fc6dcd"
      },
      "execution_count": null,
      "outputs": [
        {
          "output_type": "execute_result",
          "data": {
            "text/plain": [
              "['good', 'morning', 'saintgits']"
            ]
          },
          "metadata": {},
          "execution_count": 4
        }
      ]
    },
    {
      "cell_type": "markdown",
      "source": [
        "#10. Program to check if a list of words is in a long string at least once\n",
        "- first define somewords in list\n",
        "- write a string \n",
        "- using split function split all the word of the string\n",
        "- using intersection function check for similiarities\n",
        "- if found print found one"
      ],
      "metadata": {
        "id": "xSw1GKoUE6FL"
      }
    },
    {
      "cell_type": "code",
      "source": [
        "keyword_list = ['motorcycle', 'bike', 'bicycle', 'dirtbike', \"long\"]\n",
        "all_text = 'The bicycle is just as good company as most husbands and, when it gets old and shabby, a woman can dispose of it and get a new one without shocking the entire community'\n",
        "if set(keyword_list).intersection(all_text.split()):\n",
        "     print(\"Found One\")"
      ],
      "metadata": {
        "colab": {
          "base_uri": "https://localhost:8080/"
        },
        "id": "rtk6NQ-mFNEC",
        "outputId": "193abbcb-1577-4a7f-d183-fea7032155e9"
      },
      "execution_count": null,
      "outputs": [
        {
          "output_type": "stream",
          "name": "stdout",
          "text": [
            "Found One\n"
          ]
        }
      ]
    },
    {
      "cell_type": "markdown",
      "source": [
        "#11. Program to check if a number is odd or even\n",
        "- read the num\n",
        "- mod the number by 2 then check if result is 0 or 1\n",
        "- if 0 then print even else print odd\n"
      ],
      "metadata": {
        "id": "8abGD4fqF8vc"
      }
    },
    {
      "cell_type": "code",
      "source": [
        "num = int(input(\"Enter the Number: \"))\n",
        "if num%2==0:\n",
        "    print(\"\\n\",num,\"is an Even Number\")\n",
        "else:\n",
        "    print(\"\\n\",num,\"is an Odd Number\")"
      ],
      "metadata": {
        "colab": {
          "base_uri": "https://localhost:8080/"
        },
        "id": "hPKHklO0GJbC",
        "outputId": "0eaf5cfb-e0b8-4866-f473-6cec1cdecb46"
      },
      "execution_count": null,
      "outputs": [
        {
          "output_type": "stream",
          "name": "stdout",
          "text": [
            "Enter the Number: 3\n",
            "\n",
            " 3 is an Odd Number\n"
          ]
        }
      ]
    },
    {
      "cell_type": "markdown",
      "source": [
        "#12. Program to check whether an entered one is an alphabet or not\n",
        "- enter a char\n",
        "- check if lies betwee 'a' and 'z' or 'A' and 'Z' \n",
        "- if so print it's an alphabet else print not"
      ],
      "metadata": {
        "id": "sNBDLlrdGLqB"
      }
    },
    {
      "cell_type": "code",
      "source": [
        "c = input(\"Enter a Character: \")\n",
        "if c>='a' and c<='z':\n",
        "    print(\"\\nIt is an alphabet\")\n",
        "elif c>='A' and c<='Z':\n",
        "    print(\"\\nIt is an alphabet\")\n",
        "else:\n",
        "    print(\"\\nIt is not an alphabet!\")"
      ],
      "metadata": {
        "colab": {
          "base_uri": "https://localhost:8080/"
        },
        "id": "gsgxCZHQGhmT",
        "outputId": "de4fca0c-b876-41a0-b0e3-4aa947966da8"
      },
      "execution_count": null,
      "outputs": [
        {
          "output_type": "stream",
          "name": "stdout",
          "text": [
            "Enter a Character: f\n",
            "\n",
            "It is an alphabet\n"
          ]
        }
      ]
    },
    {
      "cell_type": "markdown",
      "source": [
        "#13. Program to check whetehr an entered letter is a vowel or not\n",
        "- read a char\n",
        "- define a set of vowels containing all vowels \n",
        "- if that char is found in that set the print vowel else not"
      ],
      "metadata": {
        "id": "L4axCoFwGnP6"
      }
    },
    {
      "cell_type": "code",
      "source": [
        "c = input(\"Enter the Character: \")\n",
        "v={'a','e','i','o','u','A','E','I','O','U'}\n",
        "if c in v:\n",
        "    print(\"\\nIt is a Vowel\")\n",
        "else:\n",
        "    print(\"\\nIt is a Consonant\")"
      ],
      "metadata": {
        "colab": {
          "base_uri": "https://localhost:8080/"
        },
        "id": "5UHsqizdG23S",
        "outputId": "921e1179-5ab1-428c-efc2-122c5189857e"
      },
      "execution_count": null,
      "outputs": [
        {
          "output_type": "stream",
          "name": "stdout",
          "text": [
            "Enter the Character: a\n",
            "\n",
            "It is a Vowel\n"
          ]
        }
      ]
    },
    {
      "cell_type": "code",
      "source": [
        "c = input(\"Enter the Character: \")\n",
        "\n",
        "if c=='a' or c=='e' or c=='i' or c=='o' or c=='u':\n",
        "    print(\"\\nIt is a Vowel\")\n",
        "elif c=='A' or c=='E' or c=='I' or c=='O' or c=='U':\n",
        "    print(\"\\nIt is a Vowel\")\n",
        "else:\n",
        "    print(\"\\nIt is a Consonant\")"
      ],
      "metadata": {
        "colab": {
          "base_uri": "https://localhost:8080/"
        },
        "id": "us9QGQ3nG4qR",
        "outputId": "12dd60c0-2e3c-4eb1-9285-b2ff3531595e"
      },
      "execution_count": null,
      "outputs": [
        {
          "output_type": "stream",
          "name": "stdout",
          "text": [
            "Enter the Character: q\n",
            "\n",
            "It is a Consonant\n"
          ]
        }
      ]
    },
    {
      "cell_type": "markdown",
      "source": [
        "#14. ***Program to check leap year***\n",
        "- read for the input\n",
        "- check if it's divisible by four and not divisible by 100\n",
        "- or it's divisible by 400 \n",
        "- if it satisfy the above condition then it's a leap year"
      ],
      "metadata": {
        "id": "9fxuwjF0G964"
      }
    },
    {
      "cell_type": "code",
      "source": [
        "y = int(input(\"Enter the Year: \"))\n",
        "\n",
        "if y%4==0 and y%100!=0:\n",
        "    print(\"\\nIt is a Leap Year\")\n",
        "elif y%400==0:\n",
        "    print(\"\\nIt is a Leap Year\")\n",
        "else:\n",
        "    print(\"\\nIt is not a Leap Year\")"
      ],
      "metadata": {
        "colab": {
          "base_uri": "https://localhost:8080/"
        },
        "id": "4oywVZtyHn2J",
        "outputId": "cecf4ff0-e976-4abc-f31f-aa8e18da0621"
      },
      "execution_count": null,
      "outputs": [
        {
          "output_type": "stream",
          "name": "stdout",
          "text": [
            "Enter the Year: 1600\n",
            "\n",
            "It is a Leap Year\n"
          ]
        }
      ]
    },
    {
      "cell_type": "markdown",
      "source": [
        "# Program with *iteratives*"
      ],
      "metadata": {
        "id": "wd4kjppZHqQg"
      }
    },
    {
      "cell_type": "markdown",
      "source": [
        "#15. ***Program to check whether a number is a perfect number or not***\n",
        "- read the number\n",
        "- find all its factors then add it and store it as a sum\n",
        "- if sum==num then it's a perfect number\n"
      ],
      "metadata": {
        "id": "8zNxT-jpHvkh"
      }
    },
    {
      "cell_type": "code",
      "source": [
        "num = int(input(\"Enter the Number:\"))\n",
        "sum = 0\n",
        "for i in range(1, num):\n",
        "  if num%i==0:\n",
        "    sum = sum+i\n",
        "if num==sum:\n",
        "  print(\"It is a Perfect Number\")\n",
        "else:\n",
        "  print(\"It is not a Perfect Number\")"
      ],
      "metadata": {
        "colab": {
          "base_uri": "https://localhost:8080/"
        },
        "id": "rQ18mkDrIKy6",
        "outputId": "cbe44f74-7946-40ee-e28e-e124add1719a"
      },
      "execution_count": null,
      "outputs": [
        {
          "output_type": "stream",
          "name": "stdout",
          "text": [
            "Enter the Number:6\n",
            "It is a Perfect Number\n"
          ]
        }
      ]
    },
    {
      "cell_type": "markdown",
      "source": [
        "#16. ***Program to list all the perfect numbers below a limit***\n",
        "- read a num(limit)\n",
        "- in a for loop check the sum of factors of all number then print the number whose sum of factor is equal to that num"
      ],
      "metadata": {
        "id": "FWh2geaCIQS7"
      }
    },
    {
      "cell_type": "code",
      "source": [
        "num = int(input(\"Enter the limit:\"))\n",
        "print(\"Perfect numbers are:\")\n",
        "print(\"***\"*10)\n",
        "pn=[]\n",
        "for n in range(1,num):\n",
        "  sum = 0\n",
        "  for i in range(1, n):\n",
        "    if n%i==0:\n",
        "      sum = sum+i\n",
        "  if n==sum:\n",
        "    pn.append(n)\n",
        "print(pn)"
      ],
      "metadata": {
        "colab": {
          "base_uri": "https://localhost:8080/"
        },
        "id": "jd0DaMBSKU-j",
        "outputId": "aff76fd6-97c5-4ce2-a071-074bb42baae2"
      },
      "execution_count": null,
      "outputs": [
        {
          "output_type": "stream",
          "name": "stdout",
          "text": [
            "Enter the limit:500\n",
            "Perfect numbers are:\n",
            "******************************\n",
            "[6, 28, 496]\n"
          ]
        }
      ]
    },
    {
      "cell_type": "markdown",
      "source": [
        "#17. Program to test whether reversal of a number is same as itself\n",
        "- read number\n",
        "- in a while loop check whether number is greater than 0 and use the below functions\n",
        "- rem = num%10\n",
        "- rev = rem + (rev*10)\n",
        "- num = num//10\n",
        "- check whether the reverse is equal"
      ],
      "metadata": {
        "id": "unpFindJK1Qj"
      }
    },
    {
      "cell_type": "code",
      "source": [
        "num = int(input(\"Enter the Number: \"))\n",
        "rev = 0\n",
        "orig = num\n",
        "while num>0:\n",
        "    rem = num%10\n",
        "    rev = rem + (rev*10)\n",
        "    num = num//10\n",
        "\n",
        "if orig==rev:\n",
        "    print(\"\\nThe Number is Equal to Its Reverse\")\n",
        "else:\n",
        "    print(\"\\nThe Number is not Equal to Its Reverse\")"
      ],
      "metadata": {
        "colab": {
          "base_uri": "https://localhost:8080/"
        },
        "id": "zLAKT0smLSzi",
        "outputId": "3ccdd630-3df8-4cc7-a7cf-007aa79a7a8a"
      },
      "execution_count": null,
      "outputs": [
        {
          "output_type": "stream",
          "name": "stdout",
          "text": [
            "Enter the Number: 123\n",
            "\n",
            "The Number is not Equal to Its Reverse\n"
          ]
        }
      ]
    },
    {
      "cell_type": "markdown",
      "source": [
        "#18. ***Program to count the number of digits in a number***\n",
        "- read a int number\n",
        "- while number is not zero\n",
        "- find its floor value and increment the total\n",
        "- print the count as total\n"
      ],
      "metadata": {
        "id": "vTMpEZRdLitS"
      }
    },
    {
      "cell_type": "code",
      "source": [
        "num = int(input(\"Enter the Number: \"))\n",
        "tot = 0\n",
        "\n",
        "while num:\n",
        "  num = num//10\n",
        "  tot = tot+1\n",
        "\n",
        "print(\"\\nTotal Digit: \")\n",
        "print(tot)"
      ],
      "metadata": {
        "colab": {
          "base_uri": "https://localhost:8080/"
        },
        "id": "aDMIXpaGL9Oj",
        "outputId": "cd9f83dc-91b5-4af3-e636-35ab9a2cc2e8"
      },
      "execution_count": null,
      "outputs": [
        {
          "output_type": "stream",
          "name": "stdout",
          "text": [
            "Enter the Number: 12345\n",
            "\n",
            "Total Digit: \n",
            "5\n"
          ]
        }
      ]
    },
    {
      "cell_type": "markdown",
      "source": [
        "#19. ***Program to find the sum of digits in a number***\n",
        "- read the number\n",
        "- take each digits of a number by modding by 10\n",
        "- then add each digits\n",
        "- replace num by its floor value"
      ],
      "metadata": {
        "id": "g9jAeRVUMBga"
      }
    },
    {
      "cell_type": "code",
      "source": [
        "num = int(input(\"Enter a Number\"))\n",
        "sum = 0\n",
        "while num>0:\n",
        "    rem = num%10\n",
        "    sum = sum+rem\n",
        "    num = num//10\n",
        "print(\"\\nSum of Digits of Given Number: \", sum)"
      ],
      "metadata": {
        "colab": {
          "base_uri": "https://localhost:8080/"
        },
        "id": "iS7R1X_eMXbb",
        "outputId": "55cd47c2-bac3-4ca9-eeab-02b5a42310d7"
      },
      "execution_count": null,
      "outputs": [
        {
          "output_type": "stream",
          "name": "stdout",
          "text": [
            "Enter a Number12345\n",
            "\n",
            "Sum of Digits of Given Number:  15\n"
          ]
        }
      ]
    },
    {
      "cell_type": "markdown",
      "source": [
        "# ***20. Program to find the sum of first and last digit of a number***\n",
        "- read the number\n",
        "- find the last number by modding by 10\n",
        "- find first digit by iteratively modding by 10 till number is 0\n",
        "- add the first and last digit and print"
      ],
      "metadata": {
        "id": "Z1Jg-sj0NJkb"
      }
    },
    {
      "cell_type": "code",
      "source": [
        "num = int(input(\"Enter a Number: \"))\n",
        "\n",
        "count = 0\n",
        "while num!=0:\n",
        "    if count==0:\n",
        "        last = num%10\n",
        "        count = count+1\n",
        "    rem = num%10\n",
        "    num = int(num/10)\n",
        "\n",
        "sum = rem + last\n",
        "print(\"\\nSum of first and last digit =\", sum)"
      ],
      "metadata": {
        "colab": {
          "base_uri": "https://localhost:8080/"
        },
        "id": "O9pFSmUnNrpD",
        "outputId": "daa954fa-5139-4325-d40e-c0afb3e78b15"
      },
      "execution_count": null,
      "outputs": [
        {
          "output_type": "stream",
          "name": "stdout",
          "text": [
            "Enter a Number: 4549\n",
            "\n",
            "Sum of first and last digit = 13\n"
          ]
        }
      ]
    },
    {
      "cell_type": "markdown",
      "source": [
        "## ***21 .Python program to display even and odd members in a tuple***\n",
        "- create a tuple with char\n",
        "- create two other tuples odd and even\n",
        "- add char to even tuple by using for loop and condition [ : : 2]\n",
        "- add char to odd tuple by using for loop and condition [1 : : 2]\n",
        "- print the odd and even tuple"
      ],
      "metadata": {
        "id": "4nWHIbnVNv4S"
      }
    },
    {
      "cell_type": "code",
      "source": [
        "\"\"\"\n",
        "Python Program:\n",
        " Using slice [] operator to iterate over a specific parts of a tuple to print odd and even members\n",
        "\"\"\"\n",
        "even=[];odd=[]\n",
        "tuple_created = (\"p\", \"r\", \"o\", \"g\", \"r\", \"a\", \"m\", \"i\", \"z\")\n",
        "for char in tuple_created[ :  : 2]:\n",
        "   even.append(char)\n",
        "for char in tuple_created[1 :  : 2]:\n",
        "   odd.append(char)\n",
        "print(\"Even members: \",even,\"\\nOdd members: \",odd)"
      ],
      "metadata": {
        "colab": {
          "base_uri": "https://localhost:8080/"
        },
        "id": "hwahcsPZOTE3",
        "outputId": "125d4b47-b970-4083-de84-a87c488c3de4"
      },
      "execution_count": null,
      "outputs": [
        {
          "output_type": "stream",
          "name": "stdout",
          "text": [
            "Even members:  ['p', 'o', 'r', 'm', 'z'] \n",
            "Odd members:  ['r', 'g', 'a', 'i']\n"
          ]
        }
      ]
    },
    {
      "cell_type": "markdown",
      "source": [
        "# ***22. Program to create a book shop stock register using python dic***\n",
        "- read for the value of books\n",
        "- list the data of books by entering its Title and numm of copies\n",
        "- ask for selling a book\n",
        "- if yes show the details of the book"
      ],
      "metadata": {
        "id": "6qOoVmmnOVub"
      }
    },
    {
      "cell_type": "code",
      "source": [
        "n = eval(input('Num books: '))\n",
        "books = {}\n",
        "for i in range(n):\n",
        "    titlez = input(\"Enter Title: \")\n",
        "    ncopy = eval(input(\"Num of copies: \"))\n",
        "    books[titlez] = ncopy\n",
        "\n",
        "prob = input('Sell a book; enter YES or NO: ')\n",
        "if prob == 'YES' or 'yes':\n",
        "    choice = input('Enter book title: ')\n",
        "    if choice in books:\n",
        "        init_num = books[choice]\n",
        "        init_num -= 1\n",
        "        books[choice] = init_num\n",
        "        print(books)"
      ],
      "metadata": {
        "colab": {
          "base_uri": "https://localhost:8080/"
        },
        "id": "QuE2ihrWPAWj",
        "outputId": "5bd85422-03cb-4c24-d621-d6ec41146030"
      },
      "execution_count": null,
      "outputs": [
        {
          "output_type": "stream",
          "name": "stdout",
          "text": [
            "Num books: 2\n",
            "Enter Title: felix\n",
            "Num of copies: 5\n",
            "Enter Title: joseph\n",
            "Num of copies: 4\n",
            "Sell a book; enter YES or NO: yes\n",
            "Enter book title: felix\n",
            "{'felix': 4, 'joseph': 4}\n"
          ]
        }
      ]
    }
  ]
}